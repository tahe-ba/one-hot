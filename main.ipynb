{
 "cells": [
  {
   "cell_type": "code",
   "execution_count": 26,
   "metadata": {},
   "outputs": [],
   "source": [
    "# one hot encoding\n",
    "import numpy as np\n",
    "from nltk.corpus import stopwords\n",
    "from nltk.tokenize import word_tokenize\n"
   ]
  },
  {
   "cell_type": "code",
   "execution_count": 27,
   "metadata": {},
   "outputs": [],
   "source": [
    "# read the data from keyboard\n",
    "data = input(\"Enter the data: \")\n",
    "data = str(data)\n"
   ]
  },
  {
   "cell_type": "code",
   "execution_count": 28,
   "metadata": {},
   "outputs": [
    {
     "name": "stdout",
     "output_type": "stream",
     "text": [
      "Data:  ali va a la centrale ali\n"
     ]
    }
   ],
   "source": [
    "print(\"Data: \", data)"
   ]
  },
  {
   "cell_type": "code",
   "execution_count": 29,
   "metadata": {},
   "outputs": [
    {
     "name": "stdout",
     "output_type": "stream",
     "text": [
      "Tokens:  ['ali', 'va', 'a', 'la', 'centrale', 'ali']\n"
     ]
    }
   ],
   "source": [
    "# tokenize the data\n",
    "tokens = word_tokenize(data)\n",
    "print(\"Tokens: \", tokens)"
   ]
  },
  {
   "cell_type": "code",
   "execution_count": 30,
   "metadata": {},
   "outputs": [
    {
     "name": "stdout",
     "output_type": "stream",
     "text": [
      "Indexed Dictionary:  {1: 'a', 3: 'ali', 0: 'centrale', 4: 'la', 2: 'va'}\n"
     ]
    }
   ],
   "source": [
    "#create indexed dictionary with data and without duplicates\n",
    "indexed_dict = dict(enumerate(set(tokens)))\n",
    "# order dictionary alphabetically\n",
    "indexed_dict = dict(sorted(indexed_dict.items(), key=lambda x: x[1]))\n",
    "print(\"Indexed Dictionary: \", indexed_dict)"
   ]
  },
  {
   "cell_type": "code",
   "execution_count": 31,
   "metadata": {},
   "outputs": [
    {
     "name": "stdout",
     "output_type": "stream",
     "text": [
      "[[0. 0. 1. 0. 0. 0.]\n",
      " [1. 0. 0. 0. 0. 1.]\n",
      " [0. 0. 0. 0. 1. 0.]\n",
      " [0. 0. 0. 1. 0. 0.]\n",
      " [0. 1. 0. 0. 0. 0.]]\n"
     ]
    }
   ],
   "source": [
    "# create the one hot encoding matrix with zeros\n",
    "one_hot_matrix = np.zeros((len(indexed_dict), len(tokens)))\n",
    "for i, word in enumerate(tokens):\n",
    "    one_hot_matrix[list(indexed_dict.values()).index(word), i] = 1\n",
    "\n",
    "print(one_hot_matrix)\n"
   ]
  },
  {
   "cell_type": "code",
   "execution_count": 32,
   "metadata": {},
   "outputs": [],
   "source": [
    "# extract the one hot encodeing array of tokens\n",
    "def one_hot_encoding(data):\n",
    "    tokens = word_tokenize(data)\n",
    "    indexed_dict = dict(enumerate(set(tokens)))\n",
    "    indexed_dict = dict(sorted(indexed_dict.items(), key=lambda x: x[1]))\n",
    "    one_hot_matrix = np.zeros((len(indexed_dict), len(tokens)))\n",
    "    for i, word in enumerate(tokens):\n",
    "        one_hot_matrix[list(indexed_dict.values()).index(word), i] = 1\n",
    "    one_hot_dict = dict(zip(indexed_dict.values(), one_hot_matrix))\n",
    "    # for key, value in one_hot_dict.items():\n",
    "    #     print(key, value)\n",
    "    return one_hot_dict\n"
   ]
  },
  {
   "cell_type": "code",
   "execution_count": 33,
   "metadata": {},
   "outputs": [
    {
     "data": {
      "text/plain": [
       "{'a': array([0., 0., 1., 0., 0., 0.]),\n",
       " 'ali': array([1., 0., 0., 0., 0., 1.]),\n",
       " 'centrale': array([0., 0., 0., 0., 1., 0.]),\n",
       " 'la': array([0., 0., 0., 1., 0., 0.]),\n",
       " 'va': array([0., 1., 0., 0., 0., 0.])}"
      ]
     },
     "execution_count": 33,
     "metadata": {},
     "output_type": "execute_result"
    }
   ],
   "source": [
    "one_hot_encoding(data)"
   ]
  }
 ],
 "metadata": {
  "kernelspec": {
   "display_name": "Python 3.10.8 64-bit",
   "language": "python",
   "name": "python3"
  },
  "language_info": {
   "codemirror_mode": {
    "name": "ipython",
    "version": 3
   },
   "file_extension": ".py",
   "mimetype": "text/x-python",
   "name": "python",
   "nbconvert_exporter": "python",
   "pygments_lexer": "ipython3",
   "version": "3.10.8"
  },
  "orig_nbformat": 4,
  "vscode": {
   "interpreter": {
    "hash": "e7370f93d1d0cde622a1f8e1c04877d8463912d04d973331ad4851f04de6915a"
   }
  }
 },
 "nbformat": 4,
 "nbformat_minor": 2
}
